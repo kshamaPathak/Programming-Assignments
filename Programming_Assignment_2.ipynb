{
 "cells": [
  {
   "cell_type": "markdown",
   "id": "ea389eba",
   "metadata": {},
   "source": [
    "1. Write a Python program to convert kilometers to miles?\n",
    "2. Write a Python program to convert Celsius to Fahrenheit?\n",
    "3. Write a Python program to display calendar?\n",
    "4. Write a Python program to solve quadratic equation?\n",
    "5. Write a Python program to swap two variables without temp variable?\n",
    "\n"
   ]
  },
  {
   "cell_type": "markdown",
   "id": "dc20a4a0",
   "metadata": {},
   "source": [
    "1. Write a Python program to convert kilometers to miles?"
   ]
  },
  {
   "cell_type": "markdown",
   "id": "d4eec99c",
   "metadata": {},
   "source": [
    "1 km = 0.62137119 miles"
   ]
  },
  {
   "cell_type": "code",
   "execution_count": 7,
   "id": "65f51bec",
   "metadata": {},
   "outputs": [
    {
     "name": "stdout",
     "output_type": "stream",
     "text": [
      "We can convert kilometers to Miles\n",
      "Enter the Kilometers to convert into Miles:  3\n",
      "1 km = 0.62137119 miles\n",
      "3.0 Kilometers = : 1.8641135699999998 Miles\n"
     ]
    }
   ],
   "source": [
    "print(\"We can convert kilometers to Miles\")\n",
    "var1=float(input(\"Enter the Kilometers to convert into Miles:  \"))\n",
    "print(\"1 km = 0.62137119 miles\")\n",
    "miles=var1*0.62137119\n",
    "print(var1,\"Kilometers = :\",miles,\"Miles\")"
   ]
  },
  {
   "cell_type": "code",
   "execution_count": null,
   "id": "8f4b28d2",
   "metadata": {},
   "outputs": [],
   "source": [
    "2. Write a Python program to convert Celsius to Fahrenheit"
   ]
  },
  {
   "cell_type": "markdown",
   "id": "b81e11b0",
   "metadata": {},
   "source": [
    "(0°C × 9/5) + 32 = 32°F"
   ]
  },
  {
   "cell_type": "code",
   "execution_count": 8,
   "id": "e8c6a6d2",
   "metadata": {},
   "outputs": [
    {
     "name": "stdout",
     "output_type": "stream",
     "text": [
      "enter the celcius Value to convert in to Fahreheit: 23\n",
      "23.0 Celcius =: 73.4 Fahreheit\n"
     ]
    }
   ],
   "source": [
    "var2=float(input(\"enter the celcius Value to convert in to Fahreheit: \"))\n",
    "far=(var2*(9/5))+32\n",
    "print(var2,\"Celcius =:\",far,\"Fahreheit\")\n"
   ]
  },
  {
   "cell_type": "markdown",
   "id": "00b4f79b",
   "metadata": {},
   "source": [
    "3. Write a Python program to display calendar?"
   ]
  },
  {
   "cell_type": "code",
   "execution_count": 14,
   "id": "a613e790",
   "metadata": {},
   "outputs": [
    {
     "name": "stdout",
     "output_type": "stream",
     "text": [
      "Enter the Year u want to display1982\n",
      "Enter the month u want to Disply11\n",
      "   November 1982\n",
      "Mo Tu We Th Fr Sa Su\n",
      " 1  2  3  4  5  6  7\n",
      " 8  9 10 11 12 13 14\n",
      "15 16 17 18 19 20 21\n",
      "22 23 24 25 26 27 28\n",
      "29 30\n",
      "\n"
     ]
    }
   ],
   "source": [
    "import calendar\n",
    "yy=int(input(\"Enter the Year u want to display \"))\n",
    "mm=int(input(\"Enter the month u want to Disply \"))\n",
    "print(calendar.month(yy,mm))"
   ]
  },
  {
   "cell_type": "markdown",
   "id": "3edc7b18",
   "metadata": {},
   "source": [
    "4. Write a Python program to solve quadratic equation?"
   ]
  },
  {
   "cell_type": "code",
   "execution_count": 2,
   "id": "49ad7321",
   "metadata": {},
   "outputs": [
    {
     "name": "stdout",
     "output_type": "stream",
     "text": [
      "enter a value for a: 1\n",
      "enter a value for b: 2\n",
      "enter a value for c: 4\n",
      "The solution are (-1-1.7320508075688772j) and (-1+1.7320508075688772j)\n"
     ]
    }
   ],
   "source": [
    "import cmath\n",
    "\n",
    "a = int(input(\"enter a value for a: \"))\n",
    "b = int(input(\"enter a value for b: \"))\n",
    "c = int(input(\"enter a value for c: \"))\n",
    "\n",
    "d = (b**2) - (4*a*c)\n",
    "\n",
    "\n",
    "sol1 = (-b-cmath.sqrt(d))/(2*a)\n",
    "sol2 = (-b+cmath.sqrt(d))/(2*a)\n",
    "\n",
    "print('The solution are',sol1,'and',sol2)\n"
   ]
  },
  {
   "cell_type": "markdown",
   "id": "d853eb32",
   "metadata": {},
   "source": [
    "5. Write a Python program to swap two variables without temp variable?"
   ]
  },
  {
   "cell_type": "code",
   "execution_count": 16,
   "id": "37783035",
   "metadata": {},
   "outputs": [],
   "source": [
    "a=2\n",
    "b=4\n",
    "a,b=b,a"
   ]
  },
  {
   "cell_type": "code",
   "execution_count": 17,
   "id": "9eb8ce10",
   "metadata": {},
   "outputs": [
    {
     "data": {
      "text/plain": [
       "(4, 2)"
      ]
     },
     "execution_count": 17,
     "metadata": {},
     "output_type": "execute_result"
    }
   ],
   "source": [
    "a,b"
   ]
  },
  {
   "cell_type": "code",
   "execution_count": null,
   "id": "2b288de1",
   "metadata": {},
   "outputs": [],
   "source": []
  }
 ],
 "metadata": {
  "kernelspec": {
   "display_name": "Python 3 (ipykernel)",
   "language": "python",
   "name": "python3"
  },
  "language_info": {
   "codemirror_mode": {
    "name": "ipython",
    "version": 3
   },
   "file_extension": ".py",
   "mimetype": "text/x-python",
   "name": "python",
   "nbconvert_exporter": "python",
   "pygments_lexer": "ipython3",
   "version": "3.9.7"
  }
 },
 "nbformat": 4,
 "nbformat_minor": 5
}

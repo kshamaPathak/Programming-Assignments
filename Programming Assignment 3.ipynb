{
 "cells": [
  {
   "cell_type": "raw",
   "id": "6f299463",
   "metadata": {},
   "source": [
    "Write a Python Program to Check if a Number is Positive, Negative or Zero?\n",
    "Write a Python Program to Check if a Number is Odd or Even?\n",
    "Write a Python Program to Check Leap Year?\n",
    "Write a Python Program to Check Prime Number?\n",
    "Write a Python Program to Print all Prime Numbers in an Interval of 1-10000?\n"
   ]
  },
  {
   "cell_type": "markdown",
   "id": "0559246e",
   "metadata": {},
   "source": [
    "1. Write a Python Program to Check if a Number is Positive, Negative or Zero?"
   ]
  },
  {
   "cell_type": "code",
   "execution_count": null,
   "id": "643bb1a8",
   "metadata": {},
   "outputs": [],
   "source": [
    "num=int(input(\"Enter the number to test: \" ))\n",
    "if num==0:\n",
    "    print(\"Num is Zero Number\")\n",
    "elif num>0:\n",
    "    print(\"Num is Positive \")\n",
    "else :\n",
    "    print(\"Num is negitive \")\n"
   ]
  },
  {
   "cell_type": "code",
   "execution_count": null,
   "id": "cc52eebe",
   "metadata": {},
   "outputs": [],
   "source": [
    "2. Write a Python Program to Check if a Number is Odd or Even?"
   ]
  },
  {
   "cell_type": "code",
   "execution_count": null,
   "id": "c2031b61",
   "metadata": {},
   "outputs": [],
   "source": [
    "num=int(input(\"Enter the number to test: \" ))\n",
    "if num%2==0:\n",
    "    print(num,\" Number is Even\")\n",
    "else:\n",
    "    print(num,\" Num is odd\")"
   ]
  },
  {
   "cell_type": "code",
   "execution_count": null,
   "id": "2567c357",
   "metadata": {},
   "outputs": [],
   "source": [
    "3. Write a Python Program to Check Leap Year?"
   ]
  },
  {
   "cell_type": "code",
   "execution_count": null,
   "id": "3ed43a64",
   "metadata": {},
   "outputs": [],
   "source": [
    "year=int(input(\"Enter the Year to check a Leap Year...\"))\n",
    "if (year % 400 == 0) and (year % 100 == 0):\n",
    "    print(year,\"is a Leap Year..\")\n",
    "elif(year%4==0)and(year%100!=0):\n",
    "    print(year,\"is a Leap Year..\")\n",
    "else:\n",
    "    print(year,\"is NOT a Leap Year..\")\n"
   ]
  },
  {
   "cell_type": "markdown",
   "id": "774ba17b",
   "metadata": {},
   "source": [
    "4. Write a Python Program to Check Prime Number?"
   ]
  },
  {
   "cell_type": "code",
   "execution_count": null,
   "id": "23b1747c",
   "metadata": {},
   "outputs": [],
   "source": [
    "num=int(input(\"Enter The num  to check it for Prime Num: \"))\n",
    "a=1\n",
    "if num>1:\n",
    "    for i in range(2,num):\n",
    "        if(num%i==0):\n",
    "            a=0\n",
    "            break\n",
    "if a:\n",
    "    print(\"The Num\",num,\" is Prime Num \")\n",
    "else:\n",
    "    print(\"Num \",num,\"is NOT a Prime Num\")\n",
    "    \n",
    "            "
   ]
  },
  {
   "cell_type": "code",
   "execution_count": null,
   "id": "8058a9cb",
   "metadata": {},
   "outputs": [],
   "source": [
    "5. Write a Python Program to Print all Prime Numbers in an Interval of 1-10000?"
   ]
  },
  {
   "cell_type": "code",
   "execution_count": null,
   "id": "f801addf",
   "metadata": {},
   "outputs": [],
   "source": [
    "#num=int(input(\"Enter The num  to check it for Prime Num: \"))\n",
    "prime=[]\n",
    "non_prime=[]\n",
    "for num in range(1,1000):\n",
    "    a=1\n",
    "    if num>1:\n",
    "        for i in range(2,num):\n",
    "            if(num%i==0):\n",
    "                a=0\n",
    "                break\n",
    "    if a:\n",
    "        #print(\"The Num\",num,\" is Prime Num \")\n",
    "        prime.append(num)\n",
    "               \n",
    "    else:\n",
    "        #print(\"Num \",num,\"is NOT a Prime Num\")\n",
    "        non_prime.append(num)\n",
    "print(prime)\n",
    "print(non_prime)"
   ]
  },
  {
   "cell_type": "code",
   "execution_count": null,
   "id": "aba826b9",
   "metadata": {},
   "outputs": [],
   "source": []
  }
 ],
 "metadata": {
  "kernelspec": {
   "display_name": "Python 3 (ipykernel)",
   "language": "python",
   "name": "python3"
  },
  "language_info": {
   "codemirror_mode": {
    "name": "ipython",
    "version": 3
   },
   "file_extension": ".py",
   "mimetype": "text/x-python",
   "name": "python",
   "nbconvert_exporter": "python",
   "pygments_lexer": "ipython3",
   "version": "3.9.7"
  }
 },
 "nbformat": 4,
 "nbformat_minor": 5
}

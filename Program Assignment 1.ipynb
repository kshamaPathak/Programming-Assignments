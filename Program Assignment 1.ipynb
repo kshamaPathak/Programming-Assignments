{
 "cells": [
  {
   "cell_type": "markdown",
   "id": "d858ed51",
   "metadata": {},
   "source": [
    "Write a Python program to print \"Hello Python\"?\n",
    "Write a Python program to do arithmetical operations addition and division.?\n",
    "Write a Python program to find the area of a triangle?\n",
    "Write a Python program to swap two variables?\n",
    "Write a Python program to generate a random number?\n"
   ]
  },
  {
   "cell_type": "markdown",
   "id": "328e1483",
   "metadata": {},
   "source": [
    "1. Write a Python program to print \"Hello Python\"?"
   ]
  },
  {
   "cell_type": "code",
   "execution_count": 3,
   "id": "24e7ed0e",
   "metadata": {},
   "outputs": [
    {
     "name": "stdout",
     "output_type": "stream",
     "text": [
      "Hello Python\n"
     ]
    }
   ],
   "source": [
    "print(\"Hello Python\")"
   ]
  },
  {
   "cell_type": "markdown",
   "id": "27b0f612",
   "metadata": {},
   "source": [
    "2. Write a Python program to do arithmetical operations addition and division.?"
   ]
  },
  {
   "cell_type": "code",
   "execution_count": 4,
   "id": "33625c22",
   "metadata": {},
   "outputs": [
    {
     "name": "stdout",
     "output_type": "stream",
     "text": [
      "Addition =: a+b=  30\n",
      "Division =: b/a=  2.0\n"
     ]
    }
   ],
   "source": [
    "a=10\n",
    "b=20\n",
    "print(\"Addition =: a+b= \",a+b)\n",
    "print(\"Division =: b/a= \",b/a)"
   ]
  },
  {
   "cell_type": "code",
   "execution_count": 5,
   "id": "5aa6e627",
   "metadata": {},
   "outputs": [
    {
     "name": "stdout",
     "output_type": "stream",
     "text": [
      "Object `triangle` not found.\n"
     ]
    }
   ],
   "source": [
    "3. Write a Python program to find the area of a triangle?"
   ]
  },
  {
   "cell_type": "markdown",
   "id": "74d0f5ad",
   "metadata": {},
   "source": [
    "3. Write a Python program to find the area of a triangle"
   ]
  },
  {
   "cell_type": "code",
   "execution_count": 6,
   "id": "1ea27b8b",
   "metadata": {},
   "outputs": [
    {
     "name": "stdout",
     "output_type": "stream",
     "text": [
      "Area of a Triangle =  300.0\n"
     ]
    }
   ],
   "source": [
    "t_base=20\n",
    "t_hight=30\n",
    "area_triangle=1/2*t_base*t_hight\n",
    "print(\"Area of a Triangle = \",area_triangle)"
   ]
  },
  {
   "cell_type": "markdown",
   "id": "26f0568b",
   "metadata": {},
   "source": [
    "4. Write a Python program to swap two variables?"
   ]
  },
  {
   "cell_type": "code",
   "execution_count": 7,
   "id": "853d5881",
   "metadata": {},
   "outputs": [
    {
     "name": "stdout",
     "output_type": "stream",
     "text": [
      "Swap variable s using 3rd variables..\n",
      "B4 swap \n",
      "a=  4\n",
      "b=  8\n",
      "After Swap\n",
      "a=  8\n",
      "b=  4\n"
     ]
    }
   ],
   "source": [
    "a=4\n",
    "b=8\n",
    "c=0\n",
    "\n",
    "print(\"Swap variable s using 3rd variables..\")\n",
    "print(\"B4 swap \")\n",
    "print(\"a= \",a)\n",
    "print(\"b= \",b)\n",
    "c=a\n",
    "a=b\n",
    "b=c\n",
    "print(\"After Swap\")\n",
    "print(\"a= \",a)\n",
    "print(\"b= \",b)"
   ]
  },
  {
   "cell_type": "markdown",
   "id": "41b35b03",
   "metadata": {},
   "source": [
    "5. Write a Python program to generate a random number?"
   ]
  },
  {
   "cell_type": "code",
   "execution_count": 14,
   "id": "95fcc1df",
   "metadata": {},
   "outputs": [],
   "source": [
    "#import random"
   ]
  },
  {
   "cell_type": "code",
   "execution_count": 15,
   "id": "3d761d65",
   "metadata": {},
   "outputs": [],
   "source": [
    "a=random.randint(0,10)\n"
   ]
  },
  {
   "cell_type": "code",
   "execution_count": 16,
   "id": "3051e95a",
   "metadata": {},
   "outputs": [
    {
     "data": {
      "text/plain": [
       "3"
      ]
     },
     "execution_count": 16,
     "metadata": {},
     "output_type": "execute_result"
    }
   ],
   "source": [
    "a"
   ]
  },
  {
   "cell_type": "code",
   "execution_count": null,
   "id": "9812b0f5",
   "metadata": {},
   "outputs": [],
   "source": []
  }
 ],
 "metadata": {
  "kernelspec": {
   "display_name": "Python 3 (ipykernel)",
   "language": "python",
   "name": "python3"
  },
  "language_info": {
   "codemirror_mode": {
    "name": "ipython",
    "version": 3
   },
   "file_extension": ".py",
   "mimetype": "text/x-python",
   "name": "python",
   "nbconvert_exporter": "python",
   "pygments_lexer": "ipython3",
   "version": "3.9.7"
  }
 },
 "nbformat": 4,
 "nbformat_minor": 5
}
